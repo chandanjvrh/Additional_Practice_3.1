{
 "cells": [
  {
   "cell_type": "markdown",
   "metadata": {},
   "source": [
    "#### 1) Write a python program which creates a class named Cone and write a function calculate_area which calculates the area of the Cone."
   ]
  },
  {
   "cell_type": "code",
   "execution_count": 1,
   "metadata": {},
   "outputs": [
    {
     "name": "stdout",
     "output_type": "stream",
     "text": [
      "Please enter the radius of the cone: 4\n",
      "Please enter the height of the cone:5\n",
      "Area of a cone with radius: 4.0 and height: 5.0 is: 130.66 squnits\n"
     ]
    }
   ],
   "source": [
    "import math as m\n",
    "class Cone:  \n",
    "    def __init__(self,radius,height):\n",
    "        self.r=radius\n",
    "        self.h=height\n",
    "        self.pi=3.14      \n",
    "    def calculate_area(self):\n",
    "        area=(self.pi*self.r)*(self.r+(m.sqrt((self.h*self.h + self.r*self.r))))\n",
    "        return area   \n",
    "radius=float(input(\"Please enter the radius of the cone: \"))\n",
    "height=float(input(\"Please enter the height of the cone:\"))\n",
    "ob1=Cone(radius,height)\n",
    "area_result=ob1.calculate_area()\n",
    "print(\"Area of a cone with radius: {} and height: {} is: {} squnits\".format(radius,height,round(area_result,2)))"
   ]
  },
  {
   "cell_type": "markdown",
   "metadata": {},
   "source": [
    "#### 2) Define a class MathOperation which implements pow(x,n) without using python's in-built pow() method"
   ]
  },
  {
   "cell_type": "code",
   "execution_count": 3,
   "metadata": {},
   "outputs": [
    {
     "name": "stdout",
     "output_type": "stream",
     "text": [
      "Enter value for x :-5\n",
      "Enter value for y :-3\n",
      "-0.008\n"
     ]
    }
   ],
   "source": [
    "class MathOperation:    \n",
    "    def __init__(self):\n",
    "        self.x=0\n",
    "        self.n=0\n",
    "    def pow(self,x,n):\n",
    "        result=x**n\n",
    "        return result\n",
    "M=MathOperation()\n",
    "x=int(input(\"Enter value for x :\"))\n",
    "n=int(input(\"Enter value for y :\"))\n",
    "print(M.pow(x,n))"
   ]
  },
  {
   "cell_type": "markdown",
   "metadata": {},
   "source": [
    "#### 3) Write a python program that creates a class Base and Derived. Use inbuilt function issubclass and isinstance which gives boolean results.(True or False)"
   ]
  },
  {
   "cell_type": "code",
   "execution_count": 4,
   "metadata": {},
   "outputs": [
    {
     "name": "stdout",
     "output_type": "stream",
     "text": [
      "Derived class is a subclass of Base class : True\n",
      "Base class is a subclass of Derived class : False\n",
      "Base class is an instance of Derived class : False\n",
      "Derived class is an instance of Base class : True\n"
     ]
    }
   ],
   "source": [
    "class Base:\n",
    "    def __init__(self):\n",
    "        pass\n",
    "class Derived(Base):\n",
    "    def __init__(self):\n",
    "        pass\n",
    "ob1=Base()\n",
    "ob2=Derived()\n",
    "print(\"Derived class is a subclass of Base class : {}\".format(issubclass(Derived,Base)))\n",
    "print(\"Base class is a subclass of Derived class : {}\".format(issubclass(Base,Derived)))\n",
    "print(\"Base class is an instance of Derived class : {}\".format(isinstance(ob1,Derived)))\n",
    "print(\"Derived class is an instance of Base class : {}\".format(isinstance(ob2,Base)))"
   ]
  },
  {
   "cell_type": "markdown",
   "metadata": {},
   "source": [
    "#### 4) Write a python program that creates base class Person which has two methods"
   ]
  },
  {
   "cell_type": "code",
   "execution_count": 5,
   "metadata": {},
   "outputs": [
    {
     "name": "stdout",
     "output_type": "stream",
     "text": [
      "Enter first name Karthik\n",
      "Enter last name Gandhi\n",
      "Fullname is KarthikGandhi\n"
     ]
    }
   ],
   "source": [
    "class Person:\n",
    "    def __init__(self,first,last):\n",
    "        self.first=first\n",
    "        self.last=last\n",
    "    def __str__(self):\n",
    "        name=self.first+self.last\n",
    "        return name\n",
    "    \n",
    "class Employee(Person):\n",
    "    def __init__(self,fname,lname):\n",
    "        self.fname=fname\n",
    "        self.lname=lname\n",
    "        super().__init__(fname,lname)\n",
    "        super().__str__()\n",
    "fname=input(\"Enter first name \")\n",
    "lname=input(\"Enter last name \")\n",
    "ob1=Employee(fname,lname)\n",
    "print(\"Fullname is {}\".format(ob1))"
   ]
  }
 ],
 "metadata": {
  "kernelspec": {
   "display_name": "Python 3",
   "language": "python",
   "name": "python3"
  },
  "language_info": {
   "codemirror_mode": {
    "name": "ipython",
    "version": 3
   },
   "file_extension": ".py",
   "mimetype": "text/x-python",
   "name": "python",
   "nbconvert_exporter": "python",
   "pygments_lexer": "ipython3",
   "version": "3.7.0"
  }
 },
 "nbformat": 4,
 "nbformat_minor": 2
}
